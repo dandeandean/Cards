{
 "cells": [
  {
   "cell_type": "code",
   "execution_count": 3,
   "id": "521af9cc",
   "metadata": {},
   "outputs": [],
   "source": [
    "import os\n",
    "from datetime import datetime, timedelta\n",
    "import sqlite3\n",
    "import typer"
   ]
  },
  {
   "cell_type": "code",
   "execution_count": 4,
   "id": "de22a876",
   "metadata": {},
   "outputs": [],
   "source": [
    "class Card:\n",
    "    def __init__(self,front = '', back = '', current_bin=0, last_viewed = datetime.timestamp(datetime.now())):\n",
    "        self.front = front\n",
    "        self.back  = back\n",
    "        self.last_viewed = datetime.now()  \n",
    "        self.current_bin = current_bin\n",
    "\n",
    "    def __repr__(self):\n",
    "        return f\"{self.front} | {self.back}\"\n",
    "    __str__ = __repr__\n",
    "    \n",
    "    ## Getters\n",
    "    def get_front(self): return self.front\n",
    "    def get_back(self): return self.back\n",
    "    def get_last_viewed(self): return self.last_viewed\n",
    "    def get_current_bin(self): return self.current_bin\n",
    "    \n",
    "    ## Setters\n",
    "    def set_current_bin(self,n):\n",
    "        self.current_bin = n\n",
    "    def set_last_viewed(self, flot=datetime.timestamp(datetime.now())):\n",
    "        self.last_viewed = flot\n",
    "    \n",
    "    def time_delta(self):\n",
    "        return datetime.timestamp(datetime.now()) - self.get_last_viewed()\n",
    "    \n",
    "    def view(self):\n",
    "        self.set_last_viewed()\n",
    "        inp = input(f\"{self.front} | \")\n",
    "        misses = 0\n",
    "        miss_list = list()\n",
    "        while (inp.strip().lower() != self.back) and (misses <=3):\n",
    "            misses +=1 \n",
    "            miss_list.append(inp.strip().lower())\n",
    "            print(\"Try again!\")\n",
    "            inp = input(f\"{self.front} | \")\n",
    "        if misses == 4:\n",
    "            print(f\"The back of the card is {self.back} \\nYou said {', '.join(miss_list)}\")\n",
    "    "
   ]
  },
  {
   "cell_type": "code",
   "execution_count": 5,
   "id": "9452897a",
   "metadata": {},
   "outputs": [],
   "source": [
    "class Deck: \n",
    "    def __init__(self, pile0=[], pile1=[],pile2=[], pile3=[],pile4=[]):\n",
    "        self.pile0 = pile0\n",
    "        self.pile1 = pile1\n",
    "        self.pile2 = pile2\n",
    "        self.pile3 = pile3\n",
    "        self.pile4 = pile4\n",
    "    "
   ]
  },
  {
   "cell_type": "code",
   "execution_count": 6,
   "id": "f993ff11",
   "metadata": {},
   "outputs": [],
   "source": [
    "class Database:\n",
    "    def __init__(self, name:str=\"cards.db\"):\n",
    "        self.__name = name\n",
    "        self.__connection = None\n",
    "        self.__cursor = None\n",
    "        self.connect()\n",
    "        self.create()\n",
    "        \n",
    "    def get_curs(self):\n",
    "        return self.__cursor\n",
    "    \n",
    "    def get_con(self):\n",
    "        return self.__connection\n",
    "    \n",
    "    def get_name(self):\n",
    "        return self.__name\n",
    "    \n",
    "    def get_name_stripped(self):\n",
    "        return self.__name[:-3]\n",
    "    \n",
    "    def connect(self):\n",
    "        self.__connection = sqlite3.connect(self.__name)\n",
    "        self.__cursor = self.__connection.cursor()\n",
    "        assert self.get_name() in os.listdir(), \"Connection FAILED\"\n",
    "        \n",
    "    def select(self, col:list , table:str):\n",
    "        res = self.exe()(f\"SELECT {','.join(col)} FROM {table}\")\n",
    "        return res\n",
    "    \n",
    "    def create(self, table=\"cards\", cols=[\"front\",\"back\",\"current_bin\",\"last_viewed\"]):\n",
    "        # This may cause an issue if it's the first time on the app\n",
    "        try:\n",
    "            payload = f\"CREATE TABLE {table}({', '.join(cols)})\"\n",
    "            self.exe()(payload)\n",
    "            print(f\"CREATED: TABLE: {table} | {cols} in {self.get_name_stripped()}\")\n",
    "        except:\n",
    "            print(f\" TABLE: {table} | {cols} in {self.get_name_stripped()}\")\n",
    "        \n",
    "    def exe(self):\n",
    "        return self.get_curs().execute\n",
    "    \n",
    "    def get_all_cards(self):\n",
    "        return db.select([\"*\"],\"cards\").fetchall()\n",
    "    \n",
    "    def push_card(self, card: Card):\n",
    "        payload = f\"\"\"\n",
    "        INSERT INTO {self.get_name_stripped()} VALUES\n",
    "                    ('{card.front}', '{card.back}', {card.get_current_bin()}, '{card.get_last_viewed()}')\n",
    "                    \"\"\"\n",
    "        #print(payload)\n",
    "        self.exe()(payload)\n",
    "        self.get_con().commit()\n",
    "        \n",
    "    def delete_db(self):\n",
    "        assert self.get_name() in os.listdir(), \"No Database to delete\"\n",
    "        confirmation = input(\"Are you sure you want to delete the database? y/n... \")\n",
    "        if confirmation == \"y\":\n",
    "            os.remove(f\"{self.get_name()}\")\n",
    "            \n",
    "    def cards_from_db(self):\n",
    "        out =list()\n",
    "        for tup in self.get_all_cards():\n",
    "            out.append(Card(tup[0],tup[1],tup[2]))\n",
    "        return out\n"
   ]
  },
  {
   "cell_type": "code",
   "execution_count": 65,
   "id": "f4d0aaed",
   "metadata": {},
   "outputs": [
    {
     "name": "stdout",
     "output_type": "stream",
     "text": [
      "CREATED: TABLE: cards | ['front', 'back', 'current_bin', 'last_viewed'] in cards\n"
     ]
    }
   ],
   "source": [
    "db = Database()"
   ]
  },
  {
   "cell_type": "code",
   "execution_count": 70,
   "id": "442337e1",
   "metadata": {},
   "outputs": [],
   "source": [
    "c = Card(\"goodbye\",\"moon\")"
   ]
  },
  {
   "cell_type": "code",
   "execution_count": 71,
   "id": "caec8fdd",
   "metadata": {},
   "outputs": [
    {
     "name": "stdout",
     "output_type": "stream",
     "text": [
      "\n",
      "        INSERT INTO cards VALUES\n",
      "                    ('goodbye', 'moon', 0, '2023-06-21 07:57:35.152819')\n",
      "                    \n"
     ]
    }
   ],
   "source": [
    "db.push_card(c)"
   ]
  },
  {
   "cell_type": "code",
   "execution_count": 77,
   "id": "60fdc529",
   "metadata": {},
   "outputs": [
    {
     "data": {
      "text/plain": [
       "[hello | world, goodbye | moon, Fat | Momma, hello | bonjour, hello | bonjour]"
      ]
     },
     "execution_count": 77,
     "metadata": {},
     "output_type": "execute_result"
    }
   ],
   "source": [
    "db.cards_from_db()"
   ]
  },
  {
   "cell_type": "code",
   "execution_count": 76,
   "id": "5cb39868",
   "metadata": {},
   "outputs": [
    {
     "data": {
      "text/plain": [
       "[(0, 'front', '', 0, None, 0),\n",
       " (1, 'back', '', 0, None, 0),\n",
       " (2, 'current_bin', '', 0, None, 0),\n",
       " (3, 'last_viewed', '', 0, None, 0)]"
      ]
     },
     "execution_count": 76,
     "metadata": {},
     "output_type": "execute_result"
    }
   ],
   "source": [
    "db.exe()(\"PRAGMA table_info(cards)\").fetchall()"
   ]
  },
  {
   "cell_type": "code",
   "execution_count": null,
   "id": "fb76078a",
   "metadata": {},
   "outputs": [],
   "source": []
  }
 ],
 "metadata": {
  "kernelspec": {
   "display_name": "Python 3 (ipykernel)",
   "language": "python",
   "name": "python3"
  },
  "language_info": {
   "codemirror_mode": {
    "name": "ipython",
    "version": 3
   },
   "file_extension": ".py",
   "mimetype": "text/x-python",
   "name": "python",
   "nbconvert_exporter": "python",
   "pygments_lexer": "ipython3",
   "version": "3.10.9"
  }
 },
 "nbformat": 4,
 "nbformat_minor": 5
}
