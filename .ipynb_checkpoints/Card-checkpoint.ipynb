{
 "cells": [
  {
   "cell_type": "code",
   "execution_count": 64,
   "id": "f993ff11",
   "metadata": {},
   "outputs": [],
   "source": [
    "import os\n",
    "class Database:\n",
    "    def __init__(self, name:str=\"cards.db\"):\n",
    "        self.__name = name\n",
    "        self.__connection = None\n",
    "        self.__cursor = None\n",
    "        self.connect()\n",
    "        self.create()\n",
    "        \n",
    "    def get_curs(self):\n",
    "        return self.__cursor\n",
    "    \n",
    "    def get_con(self):\n",
    "        return self.__connection\n",
    "    \n",
    "    def get_name(self):\n",
    "        return self.__name\n",
    "    \n",
    "    def get_name_stripped(self):\n",
    "        return self.__name[:-3]\n",
    "    \n",
    "    def connect(self):\n",
    "        self.__connection = sqlite3.connect(self.__name)\n",
    "        self.__cursor = self.__connection.cursor()\n",
    "        assert self.get_name() in os.listdir(), \"Connection FAILED\"\n",
    "        \n",
    "    def select(self, col:list , table:str):\n",
    "        res = self.exe()(f\"SELECT {','.join(col)} FROM {table}\")\n",
    "        return res\n",
    "    \n",
    "    def create(self, table=\"cards\", cols=[\"front\",\"back\",\"current_bin\",\"last_viewed\",\"created\"]):\n",
    "        # This may cause an issue if it's the firs time on the app\n",
    "        try:\n",
    "            self.exe()(f\"CREATE TABLE {table}({', '.join(cols)})\")\n",
    "            print(f\"CREATED: TABLE: {table} | {cols} in {self.get_name_stripped()}\")\n",
    "        except:\n",
    "            print(f\" TABLE: {table} | {cols} in {self.get_name_stripped()}\")\n",
    "        \n",
    "    def exe(self):\n",
    "        return self.get_curs().execute\n",
    "    \n",
    "    def get_all_cards(self):\n",
    "        return db.select([\"*\"],\"cards\").fetchall()\n",
    "    \n",
    "    def push_card(self, card: Card):\n",
    "        self.exe()(f\"\"\"INSERT INTO {self.get_name_stripped()} VALUES\n",
    "                    ('{card.front}', '{card.back}', {card.current_bin}, {card.last_viewed.timestamp()}, {str(card.created.timestamp())})\"\"\")\n",
    "        self.get_con().commit()\n",
    "        \n",
    "    def delete_db(self):\n",
    "        confirmation = input(\"Are you sure about this mannnn?\")\n",
    "        if confirmation == \"y\":\n",
    "            os.remove(f\"{self.get_name()}\")\n",
    "            \n",
    "    def cards_from_db(self):\n",
    "        out =list()\n",
    "        for tup in self.get_all_cards():\n",
    "            out.append(Card(tup[0],tup[1],tup[2]))\n",
    "        return out\n"
   ]
  },
  {
   "cell_type": "code",
   "execution_count": 65,
   "id": "de22a876",
   "metadata": {},
   "outputs": [],
   "source": [
    "from datetime import datetime, timedelta\n",
    "import sqlite3\n",
    "\n",
    "\n",
    "class Card:\n",
    "    def __init__(self,front = '', back = '', current_bin=0):\n",
    "        self.front = front\n",
    "        self.back  = back\n",
    "        self.created = datetime.now()\n",
    "        self.last_viewed = self.created   \n",
    "        self.current_bin = current_bin\n",
    "\n",
    "    def __repr__(self):\n",
    "        return f\"{self.front} | {self.back}\"\n",
    "    __str__ = __repr__\n",
    "\n",
    "    def last_viewed(self):\n",
    "        return self.last_viewed\n",
    "    \n",
    "    def view(self):\n",
    "        self.last_viewed = datetime.now()\n",
    "        inp = input(f\"{self.front} | \")\n",
    "        misses = 0\n",
    "        miss_list = list()\n",
    "        while (inp.strip().lower() != self.back) and (misses <=3):\n",
    "            misses +=1 \n",
    "            miss_list.append(inp.strip().lower())\n",
    "            print(\"Try again!\")\n",
    "            inp = input(f\"{self.front} | \")\n",
    "        if misses == 4:\n",
    "            print(f\"The back of the card is {self.back} \\nYou said {', '.join(miss_list)}\")\n",
    "\n",
    "        \n",
    "\n",
    "        \n",
    "    "
   ]
  },
  {
   "cell_type": "code",
   "execution_count": 66,
   "id": "0f8d89e5",
   "metadata": {},
   "outputs": [],
   "source": [
    "c = Card(\"hello there\",\"bonjour there\")"
   ]
  },
  {
   "cell_type": "code",
   "execution_count": 67,
   "id": "98e8d3f5",
   "metadata": {},
   "outputs": [],
   "source": [
    "def print_pile(level,amount=0):\n",
    "    print(f\"Level {level} \" +\"|\"*amount)"
   ]
  },
  {
   "cell_type": "code",
   "execution_count": 68,
   "id": "20d5f5df",
   "metadata": {},
   "outputs": [
    {
     "name": "stdout",
     "output_type": "stream",
     "text": [
      " TABLE: cards | ['front', 'back', 'current_bin', 'last_viewed', 'created'] in cards\n"
     ]
    }
   ],
   "source": [
    "db = Database()"
   ]
  },
  {
   "cell_type": "code",
   "execution_count": 69,
   "id": "ee09b547",
   "metadata": {},
   "outputs": [],
   "source": [
    "cards = [Card(\"good\",\"bon\"),Card(\"house\",\"maison\"),Card(\"yes\",\"oui\")]"
   ]
  },
  {
   "cell_type": "code",
   "execution_count": 73,
   "id": "842c818d",
   "metadata": {},
   "outputs": [
    {
     "data": {
      "text/plain": [
       "[('Hello', 'Bonjour', 0, 1686924738.552078, 1686924738.552078),\n",
       " ('good', 'bon', 0, 1687174048.773768, 1687174048.773768),\n",
       " ('house', 'maison', 0, 1687174048.773774, 1687174048.773774),\n",
       " ('yes', 'oui', 0, 1687174048.773775, 1687174048.773775),\n",
       " ('good', 'bon', 0, 1687174293.529176, 1687174293.529176),\n",
       " ('house', 'maison', 0, 1687174293.529182, 1687174293.529182),\n",
       " ('yes', 'oui', 0, 1687174293.529184, 1687174293.529184)]"
      ]
     },
     "execution_count": 73,
     "metadata": {},
     "output_type": "execute_result"
    }
   ],
   "source": [
    "db.get_all_cards()"
   ]
  },
  {
   "cell_type": "code",
   "execution_count": null,
   "id": "15a36997",
   "metadata": {},
   "outputs": [],
   "source": []
  }
 ],
 "metadata": {
  "kernelspec": {
   "display_name": "Python 3 (ipykernel)",
   "language": "python",
   "name": "python3"
  },
  "language_info": {
   "codemirror_mode": {
    "name": "ipython",
    "version": 3
   },
   "file_extension": ".py",
   "mimetype": "text/x-python",
   "name": "python",
   "nbconvert_exporter": "python",
   "pygments_lexer": "ipython3",
   "version": "3.10.9"
  }
 },
 "nbformat": 4,
 "nbformat_minor": 5
}
